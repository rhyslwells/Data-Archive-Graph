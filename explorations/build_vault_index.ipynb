{
 "cells": [
  {
   "cell_type": "markdown",
   "id": "6f3af4bd",
   "metadata": {
    "vscode": {
     "languageId": "plaintext"
    }
   },
   "source": [
    "## What You're Doing\n",
    "\n",
    "You are building a structured index (`vault_index.json`) `Data-archive/`, so that an LLM can:\n",
    "- Efficiently retrieve, summarise, and ask questions over a subgraph of relevant notes\n",
    "- Work with metadata like titles, tags, links, aliases, and summaries- Acts as a metadata snapshot of your vault\n",
    "- Enables RAG-style querying without repeatedly parsing the markdown files\n",
    "- Enables LLM reasoning over structure (e.g., graph search, centrality scoring, tag grouping)\n",
    "\n",
    "## `vault_index.json` Format (Example)\n",
    "\n",
    "```json\n",
    "{\n",
    "  \"note_id\": {\n",
    "    \"title\": \"Bayesian Uncertainty\",\n",
    "    \"path\": \"notes/probability/bayesian_uncertainty.md\",\n",
    "    \"tags\": [\"uncertainty\", \"bayes\"],\n",
    "    \"aliases\": [\"bayesian confidence\"],\n",
    "    \"outlinks\": [\"confidence_intervals\", \"epistemic_uncertainty\"],\n",
    "    \"inlinks\": [\"decision_making\"],\n",
    "    \"summary\": \"Overview of subjective and objective uncertainty in Bayesian analysis.\"\n",
    "  },\n",
    "}\n",
    "```\n",
    "\n",
    "## Planned Workflow\n",
    "\n",
    "1. Parse a vault folder (e.g. `Data-archive/`)\n",
    "2. For each note:\n",
    "   - Read title from filename or YAML\n",
    "   - Extract frontmatter (tags, aliases)\n",
    "   - Extract links (e.g., `[[note-title]]`)\n",
    "   - Extract summary (e.g., first 100 words of the note)\n",
    "3. Track inlinks/outlinks\n",
    "4. Save as a structured `vault_index.json`"
   ]
  },
  {
   "cell_type": "markdown",
   "id": "9d503eae",
   "metadata": {},
   "source": [
    "# Code"
   ]
  },
  {
   "cell_type": "code",
   "execution_count": 1,
   "id": "b1442f8a",
   "metadata": {},
   "outputs": [],
   "source": [
    "# Re-running with inlinks and assuming dependencies are now installed\n",
    "\n",
    "import os\n",
    "import json\n",
    "import re\n",
    "from pathlib import Path\n",
    "from collections import defaultdict\n",
    "import yaml\n",
    "from markdown import markdown\n",
    "from bs4 import BeautifulSoup"
   ]
  },
  {
   "cell_type": "code",
   "execution_count": null,
   "id": "e2ca472e",
   "metadata": {},
   "outputs": [
    {
     "data": {
      "text/plain": [
       "['1-on-1_template',\n",
       " 'ab_testing',\n",
       " 'accessing_gen_ai_generated_content',\n",
       " 'accuracy',\n",
       " 'acid_transaction']"
      ]
     },
     "execution_count": 2,
     "metadata": {},
     "output_type": "execute_result"
    }
   ],
   "source": [
    "\n",
    "# === CONFIGURATION ===\n",
    "VAULT_PATH = Path(\"C:/Users/RhysL/Desktop/Data-Archive/content/standardised\")\n",
    "OUTPUT_PATH = \"vault_index.json\"\n",
    "\n",
    "# === HELPERS ===\n",
    "def extract_frontmatter(md_text):\n",
    "    match = re.match(r'^---\\n(.*?)\\n---\\n(.*)', md_text, re.DOTALL)\n",
    "    if match:\n",
    "        frontmatter = yaml.safe_load(match.group(1))\n",
    "        content = match.group(2)\n",
    "    else:\n",
    "        frontmatter = {}\n",
    "        content = md_text\n",
    "    return frontmatter, content\n",
    "\n",
    "def extract_links(content):\n",
    "    return re.findall(r'\\[\\[([^\\]]+)\\]\\]', content)\n",
    "\n",
    "def markdown_to_text(md_content):\n",
    "    html = markdown(md_content)\n",
    "    soup = BeautifulSoup(html, features=\"html.parser\")\n",
    "    return soup.get_text()\n",
    "\n",
    "def get_note_id(note_path):\n",
    "    return note_path.stem.replace(\" \", \"_\").lower()\n",
    "\n",
    "def summarise_text(text, word_limit=100):\n",
    "    words = text.strip().split()\n",
    "    return \" \".join(words[:word_limit]) + (\"...\" if len(words) > word_limit else \"\")\n",
    "\n",
    "# === MAIN FUNCTION ===\n",
    "def index_vault(vault_path):\n",
    "    vault_index = {}\n",
    "    outlink_map = defaultdict(list)\n",
    "\n",
    "    for note_path in vault_path.rglob(\"*.md\"):\n",
    "        with open(note_path, 'r', encoding='utf-8') as f:\n",
    "            raw_md = f.read()\n",
    "\n",
    "        frontmatter, content = extract_frontmatter(raw_md)\n",
    "        plain_text = markdown_to_text(content)\n",
    "        note_id = get_note_id(note_path)\n",
    "\n",
    "        title = frontmatter.get(\"title\", note_path.stem)\n",
    "        tags = frontmatter.get(\"tags\", [])\n",
    "        aliases = frontmatter.get(\"aliases\", [])\n",
    "        outlinks = extract_links(content)\n",
    "\n",
    "        vault_index[note_id] = {\n",
    "            \"title\": title,\n",
    "            \"path\": str(note_path),\n",
    "            \"tags\": tags,\n",
    "            \"aliases\": aliases,\n",
    "            \"outlinks\": outlinks,\n",
    "            \"inlinks\": [],\n",
    "            \"summary\": summarise_text(plain_text, word_limit=25)\n",
    "        }\n",
    "\n",
    "        for link in outlinks:\n",
    "            target_id = link.replace(\" \", \"_\").lower()\n",
    "            outlink_map[target_id].append(note_id)\n",
    "\n",
    "    # Fill inlinks from outlink_map\n",
    "    for target_id, sources in outlink_map.items():\n",
    "        if target_id in vault_index:\n",
    "            vault_index[target_id][\"inlinks\"] = list(set(sources))\n",
    "\n",
    "    return vault_index\n",
    "\n",
    "# === EXECUTION ===\n",
    "vault_index = index_vault(VAULT_PATH)\n",
    "\n",
    "# Save JSON\n",
    "with open(OUTPUT_PATH, \"w\", encoding=\"utf-8\") as f:\n",
    "    json.dump(vault_index, f, indent=2)"
   ]
  },
  {
   "cell_type": "code",
   "execution_count": null,
   "id": "86335944",
   "metadata": {},
   "outputs": [],
   "source": [
    "list(vault_index.keys())[:5]  # Show a sample of indexed note IDs"
   ]
  },
  {
   "cell_type": "code",
   "execution_count": 3,
   "id": "4e957672",
   "metadata": {},
   "outputs": [],
   "source": [
    "# load vault_index.json\n",
    "with open(\"vault_index.json\", \"r\", encoding=\"utf-8\") as f:\n",
    "    vault_index = json.load(f)"
   ]
  },
  {
   "cell_type": "code",
   "execution_count": 5,
   "id": "64a157a5",
   "metadata": {},
   "outputs": [
    {
     "data": {
      "text/plain": [
       "{'title': '1-on-1 Template',\n",
       " 'path': 'C:\\\\Users\\\\RhysL\\\\Desktop\\\\Data-Archive\\\\content\\\\standardised\\\\1-on-1 Template.md',\n",
       " 'tags': [],\n",
       " 'aliases': [],\n",
       " 'outlinks': [],\n",
       " 'inlinks': ['documentation_&_meetings'],\n",
       " 'summary': \"Decisions [Your name] add decisions that need to be made [Other person's name] add decisions that need to be made Action items [Your name] add next steps from the discussion [Other person's name] add next steps from the discussion Topics to discuss (bi-directional) [Your name] add topics or questions to discuss together [Other person's name] add topics or questions to discuss together Updates (uni-directional - no action needed) [Your name] add updates with no action needed [Other person's name] add updates with no action needed\"}"
      ]
     },
     "execution_count": 5,
     "metadata": {},
     "output_type": "execute_result"
    }
   ],
   "source": [
    "# get detail for a specific note\n",
    "title=\"1-on-1 Template\"\n",
    "vault_index[\"1-on-1_template\"]"
   ]
  },
  {
   "cell_type": "code",
   "execution_count": null,
   "id": "1991ebd4",
   "metadata": {},
   "outputs": [],
   "source": []
  }
 ],
 "metadata": {
  "kernelspec": {
   "display_name": "venv",
   "language": "python",
   "name": "python3"
  },
  "language_info": {
   "codemirror_mode": {
    "name": "ipython",
    "version": 3
   },
   "file_extension": ".py",
   "mimetype": "text/x-python",
   "name": "python",
   "nbconvert_exporter": "python",
   "pygments_lexer": "ipython3",
   "version": "3.12.5"
  }
 },
 "nbformat": 4,
 "nbformat_minor": 5
}
