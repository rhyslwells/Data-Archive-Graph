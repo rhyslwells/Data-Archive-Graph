{
 "cells": [
  {
   "cell_type": "markdown",
   "id": "486ec81c",
   "metadata": {},
   "source": [
    "### **Overview**\n",
    "\n",
    "This notebooks is designed to explore initial usage of the JSON file that contains metadata about notes in the Data Archive. \n",
    "\n",
    "1. **Data Loading**: Load the JSON file containing metadata about notes in the Data Archive.\n",
    "2. **Data Exploration**: Explore the structure and contents of the JSON file to understand the relationships between notes.\n",
    "3. **Data Analysis and Visualization**: Analyze the relationships between notes and their centrality within the vault.\n"
   ]
  },
  {
   "cell_type": "markdown",
   "id": "34f2d3f7",
   "metadata": {},
   "source": [
    "### TOC\n",
    "\n",
    "- [1. Data Loading](#1-data-loading)\n",
    "- [2. Data Exploration](#2-data-exploration)    \n",
    "- [3. Data Analysis and Visualization](#3-data-analysis-and-visualization)"
   ]
  },
  {
   "cell_type": "markdown",
   "id": "c45b735d",
   "metadata": {},
   "source": [
    "### **1. Data Loading**"
   ]
  },
  {
   "cell_type": "code",
   "execution_count": 2,
   "id": "857525e6",
   "metadata": {},
   "outputs": [],
   "source": [
    "import json\n",
    "from collections import Counter\n",
    "import networkx as nx\n",
    "import matplotlib.pyplot as plt\n",
    "import networkx as nx\n"
   ]
  },
  {
   "cell_type": "code",
   "execution_count": 3,
   "id": "74820fb8",
   "metadata": {},
   "outputs": [],
   "source": [
    "# Load the vault index\n",
    "with open(\"../Data/enhanced_vault_index.json\", \"r\", encoding=\"utf-8\") as f:\n",
    "    vault = json.load(f)"
   ]
  },
  {
   "cell_type": "markdown",
   "id": "64ea8f8f",
   "metadata": {},
   "source": [
    "### 2. Data Exploration"
   ]
  },
  {
   "cell_type": "markdown",
   "id": "918a25f9",
   "metadata": {},
   "source": [
    "#### Vault_index"
   ]
  },
  {
   "cell_type": "code",
   "execution_count": 4,
   "id": "0269c19c",
   "metadata": {},
   "outputs": [
    {
     "name": "stdout",
     "output_type": "stream",
     "text": [
      "Loaded 796 notes from vault_index.json\n",
      "1-on-1_template: ['title', 'tags', 'aliases', 'outlinks', 'inlinks', 'summary', 'TFIDF_Score']\n",
      "ab_testing: ['title', 'tags', 'aliases', 'outlinks', 'inlinks', 'summary', 'TFIDF_Score']\n"
     ]
    }
   ],
   "source": [
    "print(f\"Loaded {len(vault)} notes from vault_index.json\")\n",
    "# Preview a few entries\n",
    "for i, (k, v) in enumerate(vault.items()):\n",
    "    print(f\"{k}: {list(v.keys())}\")\n",
    "    if i == 1: break"
   ]
  },
  {
   "cell_type": "code",
   "execution_count": 19,
   "id": "2b271269",
   "metadata": {},
   "outputs": [
    {
     "data": {
      "text/plain": [
       "{'title': 'Database Schema',\n",
       " 'tags': ['data_modeling', 'database_structure'],\n",
       " 'aliases': ['schema', 'Schema'],\n",
       " 'outlinks': ['conceptual_data_model',\n",
       "  'data_modelling',\n",
       "  'data_management',\n",
       "  'database',\n",
       "  'implementing_database_schema',\n",
       "  'types_of_database_schema',\n",
       "  'database_schema'],\n",
       " 'inlinks': ['soft_deletion',\n",
       "  'structured_data',\n",
       "  'database',\n",
       "  'views',\n",
       "  'data_lakehouse',\n",
       "  'schema_evolution',\n",
       "  'database_schema',\n",
       "  'fact_table'],\n",
       " 'summary': 'A [[Database Schema|schema]] is the structure that defines how data is organized in a [[Database]], used in [[Data Management]]. It specifies the tables, columns, relationships,...',\n",
       " 'TFIDF_Score': {'schema': 0.7443321263000408,\n",
       "  'database': 0.2553458164023245,\n",
       "  'data': 0.25479508536284223,\n",
       "  'read': 0.1604570921297529,\n",
       "  'structure': 0.14471264583778357,\n",
       "  'design': 0.10912213859569721,\n",
       "  'strategic': 0.10334085623681936,\n",
       "  'table': 0.08994025858153504,\n",
       "  'iterative': 0.0883799489013294,\n",
       "  'write': 0.08385766781333415}}"
      ]
     },
     "execution_count": 19,
     "metadata": {},
     "output_type": "execute_result"
    }
   ],
   "source": [
    "# id=\"views\"\n",
    "# vault[id]\n",
    "# based on the views subg below database_schema references itself in the outlinks/inlinks\n",
    "vault['database_schema']"
   ]
  },
  {
   "cell_type": "code",
   "execution_count": 6,
   "id": "34dae0e0",
   "metadata": {},
   "outputs": [
    {
     "data": {
      "text/plain": [
       "{'title': '1-on-1 Template',\n",
       " 'tags': [],\n",
       " 'aliases': [],\n",
       " 'outlinks': [],\n",
       " 'inlinks': ['documentation_&_meetings'],\n",
       " 'summary': \"Decisions [Your name] add decisions that need to be made [Other person's name] add decisions that need to be made Action items [Your name] add...\",\n",
       " 'TFIDF_Score': {'add': 0.4711112048057346,\n",
       "  'name': 0.44147266637033267,\n",
       "  'person': 0.3754032147055681,\n",
       "  'discus': 0.28155241102917605,\n",
       "  'action': 0.25508518127200086,\n",
       "  'topic': 0.20691725714571982,\n",
       "  'directional': 0.20349409769691357,\n",
       "  'needed': 0.1926581374212508,\n",
       "  'discussion': 0.17317115423681162,\n",
       "  'update': 0.1647981937876021}}"
      ]
     },
     "execution_count": 6,
     "metadata": {},
     "output_type": "execute_result"
    }
   ],
   "source": [
    "first_note = list(vault.values())[0]\n",
    "first_note"
   ]
  },
  {
   "cell_type": "markdown",
   "id": "fb56069d",
   "metadata": {},
   "source": [
    "#### Tags"
   ]
  },
  {
   "cell_type": "code",
   "execution_count": 7,
   "id": "a4886b80",
   "metadata": {},
   "outputs": [
    {
     "name": "stdout",
     "output_type": "stream",
     "text": [
      "\n",
      "Top 10 Tags:\n",
      "software: 47\n",
      "database: 23\n",
      "data_transformation: 23\n",
      "data_storage: 21\n",
      "drafting: 20\n",
      "evaluation: 19\n",
      "statistics: 19\n",
      "#question: 17\n",
      "data_orchestration: 15\n",
      "deep_learning: 14\n"
     ]
    }
   ],
   "source": [
    "# Initialize an empty dictionary to store tag counts\n",
    "tag_counts = {}\n",
    "\n",
    "# Safeguard against invalid notes in the vault (None or non-dictionary values)\n",
    "for note in vault.values():\n",
    "    if isinstance(note, dict):  # Ensure note is a valid dictionary\n",
    "        tags = note.get(\"tags\", [])  # Safely get 'tags', default to empty list if none\n",
    "        if isinstance(tags, list):  # Ensure tags is a list\n",
    "            for tag in tags:\n",
    "                if isinstance(tag, str):  # Ensure tag is a valid string\n",
    "                    tag_counts[tag] = tag_counts.get(tag, 0) + 1  # Increment the count for the tag\n",
    "\n",
    "# Sort the tags by frequency in descending order\n",
    "sorted_tags = sorted(tag_counts.items(), key=lambda x: x[1], reverse=True)\n",
    "\n",
    "# Print the top 10 most common tags\n",
    "print(\"\\nTop 10 Tags:\")\n",
    "for tag, count in sorted_tags[:10]:\n",
    "    print(f\"{tag}: {count}\")\n"
   ]
  },
  {
   "cell_type": "markdown",
   "id": "a9fad8bd",
   "metadata": {},
   "source": [
    "#### Orphan notes"
   ]
  },
  {
   "cell_type": "code",
   "execution_count": 8,
   "id": "09318798",
   "metadata": {},
   "outputs": [
    {
     "name": "stdout",
     "output_type": "stream",
     "text": [
      "\n",
      "Number of orphan notes: 52\n"
     ]
    }
   ],
   "source": [
    "orphans = [\n",
    "    title for title, note in vault.items()\n",
    "    if not note.get(\"outlinks\", []) and all(title not in n.get(\"outlinks\", []) for n in vault.values())\n",
    "]\n",
    "print(f\"\\nNumber of orphan notes: {len(orphans)}\")\n"
   ]
  },
  {
   "cell_type": "markdown",
   "id": "a50bb77c",
   "metadata": {},
   "source": [
    "#### Directed Link Graph"
   ]
  },
  {
   "cell_type": "code",
   "execution_count": 9,
   "id": "e1731740",
   "metadata": {},
   "outputs": [
    {
     "name": "stdout",
     "output_type": "stream",
     "text": [
      "\n",
      "Graph has 796 nodes and 2159 edges\n"
     ]
    }
   ],
   "source": [
    "G = nx.DiGraph()\n",
    "\n",
    "# Add nodes and edges (ensure we fetch outlinks and other necessary attributes correctly)\n",
    "for title, note in vault.items():\n",
    "    G.add_node(title)  # No tags added since not directly available in the note dictionary\n",
    "    outlinks = note.get(\"outlinks\", [])  # Fetch outlinks from an external source if not in the note dictionary\n",
    "    for outlink in outlinks:\n",
    "        if outlink in vault:  # Only add edge if target exists\n",
    "            G.add_edge(title, outlink)\n",
    "\n",
    "print(f\"\\nGraph has {G.number_of_nodes()} nodes and {G.number_of_edges()} edges\")"
   ]
  },
  {
   "cell_type": "markdown",
   "id": "587747cd",
   "metadata": {},
   "source": [
    "### 3. Data Analysis and Visualization"
   ]
  },
  {
   "cell_type": "markdown",
   "id": "a3e6e3e3",
   "metadata": {},
   "source": [
    "#### Subgraphs"
   ]
  },
  {
   "cell_type": "code",
   "execution_count": null,
   "id": "14acf4b1",
   "metadata": {},
   "outputs": [],
   "source": [
    "def plot_graph(graph, figsize=(8, 6), label_nodes=False,center_title=\"\",font_size=14, k=0.1):\n",
    "    plt.figure(figsize=figsize)\n",
    "    pos = nx.spring_layout(graph, k=k, seed=42)  # Reduced k for shorter edges\n",
    "    nx.draw(graph, pos, node_size=80, edge_color='gray', alpha=0.6)\n",
    "    if label_nodes:\n",
    "        nx.draw_networkx_labels(graph, pos, font_size=font_size)  # Increased font_size here\n",
    "    plt.title(f'1-hop Neighborhood of: {center_title}')\n",
    "    plt.axis('off')\n",
    "    plt.show()\n",
    "\n",
    "def get_subgraph(center_title, depth=1, remove_loops=False):\n",
    "    if center_title not in G:\n",
    "        print(f\"'{center_title}' not found in graph.\")\n",
    "        return None\n",
    "    \n",
    "    # Generate ego graph\n",
    "    sub = nx.ego_graph(G, center_title, radius=depth)\n",
    "    # Remove self-loops\n",
    "    if remove_loops:\n",
    "        # Remove self-loops from the subgraph\n",
    "        self_loops = list(nx.selfloop_edges(sub))\n",
    "        sub.remove_edges_from(self_loops)\n",
    "    \n",
    "    print(f\"Subgraph has {len(sub)} nodes and {sub.number_of_edges()} edges\")\n",
    "    return sub\n"
   ]
  },
  {
   "cell_type": "code",
   "execution_count": 25,
   "id": "8babc772",
   "metadata": {},
   "outputs": [
    {
     "name": "stdout",
     "output_type": "stream",
     "text": [
      "Subgraph has 7 nodes and 11 edges\n"
     ]
    },
    {
     "data": {
      "image/png": "[encoded data removed]",
      "text/plain": [
       "<Figure size 800x600 with 1 Axes>"
      ]
     },
     "metadata": {},
     "output_type": "display_data"
    }
   ],
   "source": [
    "# Example: a 1-hop neighborhood\n",
    "subG = get_subgraph(\"views\", depth=1,remove_loops=True)\n",
    "subG = get_subgraph(\"views\", depth=1)\n",
    "plot_graph(subG, label_nodes=True,center_title=\"views\", font_size=14, k=2)  # Font size set to 14 and reduced edge length with k=0.1"
   ]
  },
  {
   "cell_type": "markdown",
   "id": "9ba93844",
   "metadata": {},
   "source": [
    "#### Rank Notes by Centrality"
   ]
  },
  {
   "cell_type": "code",
   "execution_count": 26,
   "id": "40c8d2b4",
   "metadata": {},
   "outputs": [
    {
     "name": "stdout",
     "output_type": "stream",
     "text": [
      "\n",
      "Top 10 central notes:\n",
      "views: 1.167\n",
      "querying: 0.667\n",
      "soft_deletion: 0.500\n",
      "common_table_expression: 0.500\n",
      "database_schema: 0.333\n",
      "sqlite: 0.333\n",
      "view_use_case: 0.167\n"
     ]
    }
   ],
   "source": [
    "centrality = nx.degree_centrality(subG)\n",
    "top_nodes = sorted(centrality.items(), key=lambda x: -x[1])[:10]\n",
    "print(\"\\nTop 10 central notes:\")\n",
    "for t, score in top_nodes:\n",
    "    print(f\"{t}: {score:.3f}\")"
   ]
  },
  {
   "cell_type": "code",
   "execution_count": null,
   "id": "2bb4bf7f",
   "metadata": {},
   "outputs": [],
   "source": []
  }
 ],
 "metadata": {
  "kernelspec": {
   "display_name": "venv",
   "language": "python",
   "name": "python3"
  },
  "language_info": {
   "codemirror_mode": {
    "name": "ipython",
    "version": 3
   },
   "file_extension": ".py",
   "mimetype": "text/x-python",
   "name": "python",
   "nbconvert_exporter": "python",
   "pygments_lexer": "ipython3",
   "version": "3.12.5"
  }
 },
 "nbformat": 4,
 "nbformat_minor": 5
}
