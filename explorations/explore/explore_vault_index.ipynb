{
 "cells": [
  {
   "cell_type": "markdown",
   "id": "486ec81c",
   "metadata": {},
   "source": [
    "### **Overview**\n",
    "\n",
    "The goal is to analyze and explore the Data Archive using `vault_index.json`, focusing on note relationships and centrality. This will help in identifying key connections and themes."
   ]
  },
  {
   "cell_type": "markdown",
   "id": "d70973c3",
   "metadata": {},
   "source": [
    "### **1. Graph-Based Exploration**\n",
    "- **Nodes & Edges:** Treat each note as a node and each link between notes as an edge, creating a graph representation of the vault.\n",
    "- **Ideas for Exploration:**\n",
    "  - **Centrality Ranking:** Identify the most interconnected notes.\n",
    "  - **Clustering:** Group related notes based on shared tags or content similarity.\n",
    "  - **Path Analysis:** Explore paths between notes to understand how ideas are connected."
   ]
  },
  {
   "cell_type": "markdown",
   "id": "a5401e54",
   "metadata": {},
   "source": [
    "\n",
    "### **2. Content-Based Features**\n",
    "- **Word Count:** Measure the length of notes to prioritize or filter for specific note lengths.\n",
    "- **Tag Density:** Assess how heavily tagged a note is, useful for filtering highly tagged or under-tagged notes.\n",
    "- **Link Density:** Count the number of inlinks and outlinks to understand a note’s connectivity or centrality.\n"
   ]
  },
  {
   "cell_type": "markdown",
   "id": "5ecfe697",
   "metadata": {},
   "source": [
    "\n",
    "### **3. Semantic Content Mapping**\n",
    "- **Embeddings/Topics:** Use embeddings or topic modeling to associate notes with broader themes or clusters.\n",
    "- **Keywords:** Extract key terms from summaries or body text to improve searchability and clustering.\n"
   ]
  },
  {
   "cell_type": "markdown",
   "id": "403249e1",
   "metadata": {},
   "source": [
    "\n",
    "### **4. User-Defined Prioritization**\n",
    "- **Priority Flag:** Introduce a priority system to mark important or actionable notes, e.g., using tags like #todo or #important for quick identification and filtering.\n"
   ]
  },
  {
   "cell_type": "markdown",
   "id": "c45b735d",
   "metadata": {},
   "source": [
    "### 0: Initial Investigation"
   ]
  },
  {
   "cell_type": "code",
   "execution_count": null,
   "id": "857525e6",
   "metadata": {},
   "outputs": [],
   "source": [
    "import json\n",
    "from collections import Counter\n",
    "import networkx as nx\n",
    "import matplotlib.pyplot as plt\n",
    "\n",
    "# Load the vault index\n",
    "with open(\"vault_index.json\", \"r\", encoding=\"utf-8\") as f:\n",
    "    vault = json.load(f)\n"
   ]
  },
  {
   "cell_type": "code",
   "execution_count": null,
   "id": "0269c19c",
   "metadata": {},
   "outputs": [
    {
     "name": "stdout",
     "output_type": "stream",
     "text": [
      "Loaded 795 notes from vault_index.json\n",
      "1-on-1_template: ['title', 'tags', 'aliases', 'outlinks', 'inlinks', 'summary']\n",
      "ab_testing: ['title', 'tags', 'aliases', 'outlinks', 'inlinks', 'summary']\n",
      "accessing_gen_ai_generated_content: ['title', 'tags', 'aliases', 'outlinks', 'inlinks', 'summary']\n"
     ]
    }
   ],
   "source": [
    "print(f\"Loaded {len(vault)} notes from vault_index.json\")\n",
    "# Preview a few entries\n",
    "for i, (k, v) in enumerate(vault.items()):\n",
    "    print(f\"{k}: {list(v.keys())}\")\n",
    "    if i == 1: break"
   ]
  },
  {
   "cell_type": "code",
   "execution_count": 4,
   "id": "2b271269",
   "metadata": {},
   "outputs": [
    {
     "data": {
      "text/plain": [
       "{'title': 'Views',\n",
       " 'tags': ['database'],\n",
       " 'aliases': [],\n",
       " 'outlinks': ['soft_deletion',\n",
       "  'sqlite',\n",
       "  'querying',\n",
       "  'common_table_expression',\n",
       "  'de_tools',\n",
       "  'view_use_case',\n",
       "  'database_schema'],\n",
       " 'inlinks': ['common_table_expression'],\n",
       " 'summary': 'Views are virtual tables defined by SQL [[Querying|Query]] that ==simplify complex data representation.== They can remove unnecessary columns, aggregate results, partition data, and secure sensitive...'}"
      ]
     },
     "execution_count": 4,
     "metadata": {},
     "output_type": "execute_result"
    }
   ],
   "source": [
    "id=\"views\"\n",
    "vault[id]"
   ]
  },
  {
   "cell_type": "code",
   "execution_count": 5,
   "id": "d9062359",
   "metadata": {},
   "outputs": [
    {
     "data": {
      "text/plain": [
       "{'title': 'Common Table Expression',\n",
       " 'tags': ['database', 'querying'],\n",
       " 'aliases': ['CTE'],\n",
       " 'outlinks': ['de_tools', 'views', 'recursive_algorithm', 'querying'],\n",
       " 'inlinks': ['views'],\n",
       " 'summary': 'A Common Table Expression (CTE) is a temporary named result set that you can reference within a SELECT, INSERT, UPDATE, or DELETE statement. The CTE...'}"
      ]
     },
     "execution_count": 5,
     "metadata": {},
     "output_type": "execute_result"
    }
   ],
   "source": [
    "id=\"common_table_expression\"\n",
    "vault[id]"
   ]
  },
  {
   "cell_type": "markdown",
   "id": "fb56069d",
   "metadata": {},
   "source": [
    "## Basic stats"
   ]
  },
  {
   "cell_type": "code",
   "execution_count": null,
   "id": "0714e0c3",
   "metadata": {},
   "outputs": [
    {
     "name": "stdout",
     "output_type": "stream",
     "text": [
      "\n",
      "Top 10 Tags:\n"
     ]
    }
   ],
   "source": [
    "import networkx as nx\n",
    "import matplotlib.pyplot as plt\n",
    "from collections import Counter\n",
    "import numpy as np\n",
    "# import faiss\n"
   ]
  },
  {
   "cell_type": "code",
   "execution_count": 1,
   "id": "5f519508",
   "metadata": {},
   "outputs": [],
   "source": [
    "# vault"
   ]
  },
  {
   "cell_type": "code",
   "execution_count": 19,
   "id": "0a064fb8",
   "metadata": {},
   "outputs": [
    {
     "data": {
      "text/plain": [
       "{'title': '1-on-1 Template',\n",
       " 'tags': [],\n",
       " 'aliases': [],\n",
       " 'outlinks': [],\n",
       " 'inlinks': ['documentation_&_meetings'],\n",
       " 'summary': \"Decisions [Your name] add decisions that need to be made [Other person's name] add decisions that need to be made Action items [Your name] add...\"}"
      ]
     },
     "execution_count": 19,
     "metadata": {},
     "output_type": "execute_result"
    }
   ],
   "source": [
    "first_note = list(vault.values())[0]\n",
    "first_note"
   ]
  },
  {
   "cell_type": "code",
   "execution_count": 24,
   "id": "a4886b80",
   "metadata": {},
   "outputs": [
    {
     "name": "stdout",
     "output_type": "stream",
     "text": [
      "\n",
      "Top 10 Tags:\n",
      "software: 47\n",
      "database: 23\n",
      "data_transformation: 23\n",
      "data_storage: 21\n",
      "drafting: 20\n",
      "evaluation: 19\n",
      "statistics: 19\n",
      "#question: 17\n",
      "data_orchestration: 15\n",
      "deep_learning: 14\n"
     ]
    }
   ],
   "source": [
    "# Initialize an empty dictionary to store tag counts\n",
    "tag_counts = {}\n",
    "\n",
    "# Safeguard against invalid notes in the vault (None or non-dictionary values)\n",
    "for note in vault.values():\n",
    "    if isinstance(note, dict):  # Ensure note is a valid dictionary\n",
    "        tags = note.get(\"tags\", [])  # Safely get 'tags', default to empty list if none\n",
    "        if isinstance(tags, list):  # Ensure tags is a list\n",
    "            for tag in tags:\n",
    "                if isinstance(tag, str):  # Ensure tag is a valid string\n",
    "                    tag_counts[tag] = tag_counts.get(tag, 0) + 1  # Increment the count for the tag\n",
    "\n",
    "# Sort the tags by frequency in descending order\n",
    "sorted_tags = sorted(tag_counts.items(), key=lambda x: x[1], reverse=True)\n",
    "\n",
    "# Print the top 10 most common tags\n",
    "print(\"\\nTop 10 Tags:\")\n",
    "for tag, count in sorted_tags[:10]:\n",
    "    print(f\"{tag}: {count}\")\n"
   ]
  },
  {
   "cell_type": "code",
   "execution_count": 25,
   "id": "a9fad8bd",
   "metadata": {},
   "outputs": [
    {
     "name": "stdout",
     "output_type": "stream",
     "text": [
      "\n",
      "Number of orphan notes: 55\n"
     ]
    }
   ],
   "source": [
    "# Find orphan notes (no inlinks or outlinks)\n",
    "orphans = [\n",
    "    title for title, note in vault.items()\n",
    "    if not note.get(\"outlinks\", []) and all(title not in n.get(\"outlinks\", []) for n in vault.values())\n",
    "]\n",
    "print(f\"\\nNumber of orphan notes: {len(orphans)}\")\n"
   ]
  },
  {
   "cell_type": "code",
   "execution_count": null,
   "id": "e1731740",
   "metadata": {},
   "outputs": [],
   "source": [
    "\n",
    "# ============================================\n",
    "# 2. Construct a Directed Link Graph\n",
    "# ============================================\n",
    "\n",
    "G = nx.DiGraph()\n",
    "\n",
    "# Add nodes and edges (ensure we fetch outlinks and other necessary attributes correctly)\n",
    "for title, note in vault.items():\n",
    "    G.add_node(title)  # No tags added since not directly available in the note dictionary\n",
    "    outlinks = note.get(\"outlinks\", [])  # Fetch outlinks from an external source if not in the note dictionary\n",
    "    for outlink in outlinks:\n",
    "        if outlink in vault:  # Only add edge if target exists\n",
    "            G.add_edge(title, outlink)\n",
    "\n",
    "print(f\"\\nGraph has {G.number_of_nodes()} nodes and {G.number_of_edges()} edges\")"
   ]
  },
  {
   "cell_type": "code",
   "execution_count": null,
   "id": "14acf4b1",
   "metadata": {},
   "outputs": [
    {
     "name": "stdout",
     "output_type": "stream",
     "text": [
      "Subgraph has 6 nodes\n"
     ]
    },
    {
     "data": {
      "image/png": "[encoded data removed]",
      "text/plain": [
       "<Figure size 1200x800 with 1 Axes>"
      ]
     },
     "metadata": {},
     "output_type": "display_data"
    }
   ],
   "source": [
    "def plot_graph(graph, figsize=(8, 6), label_nodes=False, font_size=14, k=0.1):\n",
    "    plt.figure(figsize=figsize)\n",
    "    pos = nx.spring_layout(graph, k=k, seed=42)  # Reduced k for shorter edges\n",
    "    nx.draw(graph, pos, node_size=80, edge_color='gray', alpha=0.6)\n",
    "    if label_nodes:\n",
    "        nx.draw_networkx_labels(graph, pos, font_size=font_size)  # Increased font_size here\n",
    "    plt.title(\"Obsidian Vault Graph\")\n",
    "    plt.axis('off')\n",
    "    plt.show()\n",
    "\n",
    "\n",
    "def get_subgraph(center_title, depth=1):\n",
    "    if center_title not in G:\n",
    "        print(f\"'{center_title}' not found in graph.\")\n",
    "        return None\n",
    "    sub = nx.ego_graph(G, center_title, radius=depth)\n",
    "    print(f\"Subgraph has {len(sub)} nodes\")\n",
    "    return sub\n",
    "\n",
    "# Example: a 1-hop neighborhood\n",
    "subG = get_subgraph(\"views\", depth=1)\n",
    "plot_graph(subG, label_nodes=True, font_size=14, k=2)  # Font size set to 14 and reduced edge length with k=0.1\n"
   ]
  },
  {
   "cell_type": "code",
   "execution_count": null,
   "id": "9ba93844",
   "metadata": {},
   "outputs": [],
   "source": [
    "\n",
    "\n",
    "# ============================================\n",
    "# 5. Prepare Prompt for Top-N Notes\n",
    "# ============================================\n",
    "\n",
    "def build_prompt(note_titles, vault):\n",
    "    prompt = \"\"\n",
    "    for t in note_titles:\n",
    "        note = vault.get(t, {})\n",
    "        prompt += f\"# {t}\\n\"\n",
    "        # Fetch tags and content from external sources or use default if not available in note dict\n",
    "        tags = note.get(\"note_tags\", [])  # Replace with actual tag source if different\n",
    "        prompt += f\"Tags: {', '.join(tags)}\\n\"\n",
    "        prompt += note.get(\"content\", \"\")[:500] + \"\\n\\n\"  # Fetch content or summarize\n",
    "    return prompt\n",
    "\n",
    "# Example usage\n",
    "example_titles = list(subG.nodes)[:3]\n",
    "prompt_text = build_prompt(example_titles, vault)\n",
    "print(prompt_text)\n",
    "\n",
    "# ============================================\n",
    "# 6. Rank Notes by Centrality\n",
    "# ============================================\n",
    "\n",
    "centrality = nx.degree_centrality(G)\n",
    "top_nodes = sorted(centrality.items(), key=lambda x: -x[1])[:10]\n",
    "print(\"\\nTop 10 central notes:\")\n",
    "for t, score in top_nodes:\n",
    "    print(f\"{t}: {score:.3f}\")\n",
    "\n",
    "# ============================================\n",
    "# 7. Search Notes by Concept or Similarity (NLP)\n",
    "# ============================================\n",
    "\n",
    "# Assuming you’ve built a FAISS index keyed by title\n",
    "# Load the embedding index (e.g., FAISS)\n",
    "# Example: Initialize FAISS index with embeddings for note titles\n",
    "# faiss_index = faiss.read_index(\"faiss_index_file\")\n",
    "\n",
    "# Perform semantic search from a query\n",
    "query_vec = model.encode(\"Uncertainty quantification\")\n",
    "D, I = faiss_index.search(np.array([query_vec]), k=5)\n",
    "\n",
    "# Retrieve top-k relevant note titles based on similarity\n",
    "top_titles = [vault[titles[i]]['title'] for i in I[0]]\n",
    "print(f\"Top 5 similar notes: {top_titles}\")\n"
   ]
  }
 ],
 "metadata": {
  "kernelspec": {
   "display_name": "venv",
   "language": "python",
   "name": "python3"
  },
  "language_info": {
   "codemirror_mode": {
    "name": "ipython",
    "version": 3
   },
   "file_extension": ".py",
   "mimetype": "text/x-python",
   "name": "python",
   "nbconvert_exporter": "python",
   "pygments_lexer": "ipython3",
   "version": "3.12.5"
  }
 },
 "nbformat": 4,
 "nbformat_minor": 5
}
